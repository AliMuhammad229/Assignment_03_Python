{
 "cells": [
  {
   "cell_type": "code",
   "execution_count": 4,
   "metadata": {},
   "outputs": [
    {
     "name": "stdout",
     "output_type": "stream",
     "text": [
      "Twinkle, twinkle, little star,\n",
      "\tHow I wonder what you are!\n",
      "\t\tUp above the world so high,\n",
      "\t\tLike a diamond in the sky.\n",
      "Twinkle, twinkle, little star,\n",
      "\tHow I wonder what you are\n"
     ]
    }
   ],
   "source": [
    "# Q: 01\n",
    "print(\"Twinkle, twinkle, little star,\\n\"\"\\tHow I wonder what you are!\\n\\t\\tUp above the world so high,\\n\\t\\tLike a diamond in the sky.\\nTwinkle, twinkle, little star,\\n\\tHow I wonder what you are\")"
   ]
  },
  {
   "cell_type": "code",
   "execution_count": 9,
   "metadata": {},
   "outputs": [
    {
     "name": "stdout",
     "output_type": "stream",
     "text": [
      "Python version: 3.8.5 (default, Sep  3 2020, 21:29:08) [MSC v.1916 64 bit (AMD64)]\n"
     ]
    }
   ],
   "source": [
    "# Q: 02\n",
    "import sys\n",
    "print(f'Python version: {sys.version}')\n"
   ]
  },
  {
   "cell_type": "code",
   "execution_count": 10,
   "metadata": {},
   "outputs": [
    {
     "name": "stdout",
     "output_type": "stream",
     "text": [
      "Current date and time : \n",
      "2021-10-24 14:41:10\n"
     ]
    }
   ],
   "source": [
    "# Q: 03\n",
    "import datetime\n",
    "currDate = datetime.datetime.now()\n",
    "print (\"Current date and time : \")\n",
    "print (currDate.strftime(\"%Y-%m-%d %H:%M:%S\"))"
   ]
  },
  {
   "cell_type": "code",
   "execution_count": 11,
   "metadata": {},
   "outputs": [
    {
     "name": "stdout",
     "output_type": "stream",
     "text": [
      "Input the radius of the circle : 24.5\n",
      "The area of the circle with radius 24.5 is: 1885.7409903172734\n"
     ]
    }
   ],
   "source": [
    "# Q: 04\n",
    "from math import pi\n",
    "radius_of_a_circle = float(input (\"Input the radius of the circle : \"))\n",
    "print (\"The area of the circle with radius \" + str(radius_of_a_circle) + \" is: \" + str(pi * radius_of_a_circle**2))"
   ]
  },
  {
   "cell_type": "code",
   "execution_count": 12,
   "metadata": {},
   "outputs": [
    {
     "name": "stdout",
     "output_type": "stream",
     "text": [
      "Input your First Name : Ali\n",
      "Input your Last Name : Muhammad\n",
      "Muhammad Ali\n"
     ]
    }
   ],
   "source": [
    "# Q: 05\n",
    "fname = input(\"Input your First Name : \")\n",
    "lname = input(\"Input your Last Name : \")\n",
    "print (lname + \" \" + fname)"
   ]
  },
  {
   "cell_type": "code",
   "execution_count": null,
   "metadata": {},
   "outputs": [],
   "source": [
    "# Q: 06\n",
    "first_num = int(input(\"Enter a Number : \"))\n",
    "second_num = int(input(\"Enter a Number : \"))\n",
    "print(\"Addition: \"+first_num+second_num)"
   ]
  },
  {
   "cell_type": "code",
   "execution_count": null,
   "metadata": {},
   "outputs": [],
   "source": [
    "# Q: 07\n",
    "maths=int(input(\"Enter marks Maths subject: \"))\n",
    "english=int(input(\"Enter marks English subject: \"))\n",
    "physics=int(input(\"Enter marks Physics subject: \"))\n",
    "chemistry=int(input(\"Enter marks Chemistry subject: \"))\n",
    "urdu=int(input(\"Enter marks Urdu subject: \"))\n",
    "avg=(maths+english+physics+chemistry+urdu)/5\n",
    "if(avg>=90):\n",
    "    print(\"Grade: A\")\n",
    "elif(avg>=80&avg<90):\n",
    "    print(\"Grade: B\")\n",
    "elif(avg>=70&avg<80):\n",
    "    print(\"Grade: C\")\n",
    "elif(avg>=60&avg<70):\n",
    "    print(\"Grade: D\")\n",
    "else:\n",
    "    print(\"Grade: F\")"
   ]
  },
  {
   "cell_type": "code",
   "execution_count": 14,
   "metadata": {},
   "outputs": [
    {
     "name": "stdout",
     "output_type": "stream",
     "text": [
      "Enter a number: 4\n",
      "4 is Even\n"
     ]
    }
   ],
   "source": [
    "# Q: 08\n",
    "num = int(input(\"Enter a number: \"))\n",
    "if (num % 2) == 0:\n",
    "   print(f'{num} is Even')\n",
    "else:\n",
    "   print(f'{num} is Odd')"
   ]
  },
  {
   "cell_type": "code",
   "execution_count": 16,
   "metadata": {},
   "outputs": [
    {
     "name": "stdout",
     "output_type": "stream",
     "text": [
      "Length of the List: 5\n"
     ]
    }
   ],
   "source": [
    "# Q: 09\n",
    "inp_lst = ['Python','Java','Kotlin','Machine Learning','Keras']\n",
    "size = 0\n",
    "for x in inp_lst:\n",
    "    size+=1\n",
    "print(f'Length of the List: {size}')"
   ]
  },
  {
   "cell_type": "code",
   "execution_count": 23,
   "metadata": {},
   "outputs": [
    {
     "name": "stdout",
     "output_type": "stream",
     "text": [
      "Sum: 55\n"
     ]
    }
   ],
   "source": [
    "# Q: 10\n",
    "inp_lst = [1,2,3,4,5,6,7,8,9,10]\n",
    "temp = 0\n",
    "for x in inp_lst:\n",
    "    temp += x\n",
    "print(f'Sum: {temp}')"
   ]
  },
  {
   "cell_type": "code",
   "execution_count": 24,
   "metadata": {},
   "outputs": [
    {
     "name": "stdout",
     "output_type": "stream",
     "text": [
      "Largest Number: 10\n"
     ]
    }
   ],
   "source": [
    "# Q: 11\n",
    "inp_lst = [1,2,3,4,5,6,7,8,9,10]\n",
    "max_num = 0\n",
    "for x in inp_lst:\n",
    "    if x > max_num:\n",
    "        max_num = x\n",
    "print(f'Largest Number: {max_num}')"
   ]
  },
  {
   "cell_type": "code",
   "execution_count": 26,
   "metadata": {},
   "outputs": [
    {
     "name": "stdout",
     "output_type": "stream",
     "text": [
      "[1, 1, 2, 3]\n"
     ]
    }
   ],
   "source": [
    "# Q: 12\n",
    "a = [1, 1, 2, 3, 5, 8, 13, 21, 34, 55, 89]\n",
    "temp_list_of_less_5 = []\n",
    "for x in a:\n",
    "    if x <5:\n",
    "        temp_list_of_less_5.append(x)\n",
    "print(temp_list_of_less_5)"
   ]
  },
  {
   "cell_type": "code",
   "execution_count": null,
   "metadata": {},
   "outputs": [],
   "source": []
  }
 ],
 "metadata": {
  "kernelspec": {
   "display_name": "Python 3",
   "language": "python",
   "name": "python3"
  },
  "language_info": {
   "codemirror_mode": {
    "name": "ipython",
    "version": 3
   },
   "file_extension": ".py",
   "mimetype": "text/x-python",
   "name": "python",
   "nbconvert_exporter": "python",
   "pygments_lexer": "ipython3",
   "version": "3.8.5"
  }
 },
 "nbformat": 4,
 "nbformat_minor": 4
}
